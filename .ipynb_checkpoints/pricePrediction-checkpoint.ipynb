{
 "cells": [
  {
   "cell_type": "markdown",
   "metadata": {},
   "source": [
    "# 개발 노트\n",
    "make_BuyHoldSell_point 고려할게 많다"
   ]
  },
  {
   "cell_type": "markdown",
   "metadata": {
    "colab_type": "text",
    "id": "PXRpEypCqwnS"
   },
   "source": [
    "# **Bitcoin Buy, Hold, Sell decision making project**\n",
    "---"
   ]
  },
  {
   "cell_type": "code",
   "execution_count": 0,
   "metadata": {
    "colab": {
     "base_uri": "https://localhost:8080/",
     "height": 127
    },
    "colab_type": "code",
    "id": "zhg84Ze3q065",
    "outputId": "ce56c196-9126-464c-b0b3-62cfaabb8f8b"
   },
   "outputs": [
    {
     "name": "stdout",
     "output_type": "stream",
     "text": [
      "Go to this URL in a browser: https://accounts.google.com/o/oauth2/auth?client_id=947318989803-6bn6qk8qdgf4n4g3pfee6491hc0brc4i.apps.googleusercontent.com&redirect_uri=urn%3Aietf%3Awg%3Aoauth%3A2.0%3Aoob&scope=email%20https%3A%2F%2Fwww.googleapis.com%2Fauth%2Fdocs.test%20https%3A%2F%2Fwww.googleapis.com%2Fauth%2Fdrive%20https%3A%2F%2Fwww.googleapis.com%2Fauth%2Fdrive.photos.readonly%20https%3A%2F%2Fwww.googleapis.com%2Fauth%2Fpeopleapi.readonly&response_type=code\n",
      "\n",
      "Enter your authorization code:\n",
      "··········\n",
      "Mounted at /content/drive\n"
     ]
    }
   ],
   "source": [
    "from google.colab import drive\n",
    "drive.mount('/content/drive')"
   ]
  },
  {
   "cell_type": "code",
   "execution_count": 74,
   "metadata": {
    "colab": {
     "base_uri": "https://localhost:8080/",
     "height": 35
    },
    "colab_type": "code",
    "id": "ukQCcKKIqwnT",
    "outputId": "3876b28d-d750-498e-daa6-4ade1d30fba6"
   },
   "outputs": [],
   "source": [
    "import keras\n",
    "from keras.models import Sequential\n",
    "from keras.layers import LSTM, Dense, Activation, Lambda\n",
    "from keras import optimizers\n",
    "from keras.utils import np_utils\n",
    "\n",
    "import numpy as np\n",
    "import math"
   ]
  },
  {
   "cell_type": "markdown",
   "metadata": {
    "colab_type": "text",
    "id": "KoTh8kz-qwnW"
   },
   "source": [
    "**X : 시가,고가, 저가, 종가, 누적거래금액, 누적거래량**"
   ]
  },
  {
   "cell_type": "code",
   "execution_count": 75,
   "metadata": {
    "colab": {},
    "colab_type": "code",
    "id": "NU1EMaJRqwnX"
   },
   "outputs": [],
   "source": [
    "#rawData = np.loadtxt(\"/content/drive/My Drive/Colab Notebooks/priceData.csv\", delimiter=',')\n",
    "rawData = np.loadtxt(\"priceData.csv\", delimiter=',')"
   ]
  },
  {
   "cell_type": "code",
   "execution_count": 76,
   "metadata": {
    "colab": {},
    "colab_type": "code",
    "id": "47TmwC-2qwnZ"
   },
   "outputs": [],
   "source": [
    "X = rawData[:, 1:]\n",
    "Y = np.zeros((len(X), 3))"
   ]
  },
  {
   "cell_type": "markdown",
   "metadata": {
    "colab_type": "text",
    "id": "aFiFX-6kqwnb"
   },
   "source": [
    "### Normalization and Standardization"
   ]
  },
  {
   "cell_type": "code",
   "execution_count": 77,
   "metadata": {
    "colab": {},
    "colab_type": "code",
    "id": "nCyKTSSvqwnc"
   },
   "outputs": [],
   "source": [
    "def normalize(data):\n",
    "    return (data - np.min(data, axis = 0))/(np.max(data, axis = 0) - np.min(data, axis = 0))"
   ]
  },
  {
   "cell_type": "code",
   "execution_count": 78,
   "metadata": {
    "colab": {},
    "colab_type": "code",
    "id": "lKZIF9xsqwne"
   },
   "outputs": [],
   "source": [
    "def standardize(data) :\n",
    "    return (data - np.mean(data, axis = 0))/np.std(data, axis = 0)"
   ]
  },
  {
   "cell_type": "code",
   "execution_count": 79,
   "metadata": {
    "colab": {},
    "colab_type": "code",
    "id": "v7dVEBRIqwng"
   },
   "outputs": [],
   "source": [
    "X = normalize(X)\n",
    "X = standardize(X)"
   ]
  },
  {
   "cell_type": "markdown",
   "metadata": {
    "colab_type": "text",
    "id": "dRNCx1z2qwnh"
   },
   "source": [
    "## Functions\n",
    "---\n",
    "make_BuyHoldSell_point()<br/>print_BuyHoldSell_point()"
   ]
  },
  {
   "cell_type": "markdown",
   "metadata": {
    "colab_type": "text",
    "id": "I2VWHbK3qwni"
   },
   "source": [
    "### make_BuyHoldSell_point\n",
    "This function makes Buy, Hold, Sell point. (Y)\n",
    "np.ndarray Y.shape is (len(X), 3)\n",
    "- Buy : Y[ , 0] = 1\n",
    "- Hold : Y[ , 1] = 1\n",
    "- Sell : Y[ , 2] = 1"
   ]
  },
  {
   "cell_type": "code",
   "execution_count": 80,
   "metadata": {
    "colab": {},
    "colab_type": "code",
    "id": "h31MSUCYqwnj"
   },
   "outputs": [],
   "source": [
    "'''\n",
    "Variable for make_BuyHoldSell_point\n",
    "'''\n",
    "candle_time = 1 # 1분봉\n",
    "period = 60/1*12 #72 # (60분 / 10분봉) * 12시간\n",
    "period = (int)(period/2)"
   ]
  },
  {
   "cell_type": "code",
   "execution_count": 176,
   "metadata": {
    "colab": {},
    "colab_type": "code",
    "id": "b_PcN2aCqwnl"
   },
   "outputs": [],
   "source": [
    "make_point_length = 30 // candle_time # 최저, 최고점에서 몇분까지 Buy, Sell Point로 결정할지 정하는 변수\n",
    "about_commision = 3 * 60 // candle_time # 수수료 발생을 고려하여, Buy, Sell Point가 3시간 이내일 경우 Buy, Sell Point를 Hold함\n",
    "def make_BuyHoldSell_point(X, Y) :\n",
    "    \n",
    "    Y[:, :] = 0\n",
    "        \n",
    "    for i in range(period, len(X)-period) :\n",
    "\n",
    "        arr = X[i-period:i+period, 3]\n",
    "\n",
    "        minIndex = np.argmin(arr)\n",
    "        maxIndex = np.argmax(arr)\n",
    "        \n",
    "        if abs(maxIndex - minIndex) > about_commision :\n",
    "            for j in range(make_point_length) :\n",
    "                if i-period + maxIndex + j < len(X) and i-period + minIndex + j < len(X) :\n",
    "                    if Y[i-period + minIndex + j, 2] == 0 :\n",
    "                        Y[i-period + minIndex + j, 0] = 1\n",
    "                    if Y[i-period + maxIndex + j, 0] == 0 :\n",
    "                        Y[i-period + maxIndex + j, 2] = 1\n",
    "        \n",
    "    for i in range(0, len(X)) :\n",
    "        if Y[i, 0] == 0 and Y[i, 2] == 0 :\n",
    "            Y[i, 1] = 1"
   ]
  },
  {
   "cell_type": "markdown",
   "metadata": {
    "colab_type": "text",
    "id": "zQau0VOXqwno"
   },
   "source": [
    "### print_BuyHoldSell_point\n",
    "This function shows time, BuyHoldSell, price."
   ]
  },
  {
   "cell_type": "code",
   "execution_count": 177,
   "metadata": {
    "colab": {},
    "colab_type": "code",
    "id": "44lDUiL7qwnp"
   },
   "outputs": [],
   "source": [
    "def print_BuyHoldSell_point(X, Y) :\n",
    "    for i in range(0, len(X)) :\n",
    "        if Y[i, 0] == 1 :\n",
    "            print(i, \"\\tBuy\\t\", X[i, 3], Y[i])\n",
    "        elif Y[i, 2] == 1 :\n",
    "            print(i, \"\\tSell\\t\", X[i, 3], Y[i])\n",
    "        else :\n",
    "            print(i, \"\\tHold\\t\", X[i, 3], Y[i])"
   ]
  },
  {
   "cell_type": "markdown",
   "metadata": {
    "colab_type": "text",
    "id": "3K-Grp5eqwnr"
   },
   "source": [
    "## Building an RNN with LSTM\n",
    "---"
   ]
  },
  {
   "cell_type": "code",
   "execution_count": 178,
   "metadata": {
    "colab": {},
    "colab_type": "code",
    "id": "iHT4ig0sqwns"
   },
   "outputs": [],
   "source": [
    "make_BuyHoldSell_point(X, Y)\n",
    "#print_BuyHoldSell_point(X, Y)"
   ]
  },
  {
   "cell_type": "code",
   "execution_count": 179,
   "metadata": {},
   "outputs": [
    {
     "name": "stdout",
     "output_type": "stream",
     "text": [
      "103482\n"
     ]
    }
   ],
   "source": [
    "print(len(X))"
   ]
  },
  {
   "cell_type": "code",
   "execution_count": 180,
   "metadata": {
    "colab": {},
    "colab_type": "code",
    "id": "Yvs5r3Vdqwnv"
   },
   "outputs": [],
   "source": [
    "train_number = (int)(len(X) * 0.9)\n",
    "\n",
    "X_train, X_test = X[:train_number], X[train_number:]\n",
    "Y_train, Y_test = Y[:train_number], Y[train_number:]\n",
    "\n",
    "#X_train = X_train.reshape((1, X_train.shape[0], X_train.shape[1]))\n",
    "#X_test = X_test.reshape((1, X_test.shape[0], X_test.shape[1]))\n",
    "#Y_train = Y_train.reshape((1, Y_train.shape[0], Y_train.shape[1]))\n",
    "#Y_test = Y_test.reshape((1, Y_test.shape[0], Y_test.shape[1]))"
   ]
  },
  {
   "cell_type": "code",
   "execution_count": 181,
   "metadata": {
    "colab": {
     "base_uri": "https://localhost:8080/",
     "height": 53
    },
    "colab_type": "code",
    "id": "bKB3iwO8qwnx",
    "outputId": "e618f3b3-c89c-4372-dbf1-d0eeea7b5818"
   },
   "outputs": [
    {
     "name": "stdout",
     "output_type": "stream",
     "text": [
      "(93133, 6)\n",
      "(93133, 3)\n"
     ]
    }
   ],
   "source": [
    "print(X_train.shape)\n",
    "print(Y_train.shape)"
   ]
  },
  {
   "cell_type": "markdown",
   "metadata": {
    "colab_type": "text",
    "id": "L35d3GPsqwnz"
   },
   "source": [
    "### Setting the RNN Parameters"
   ]
  },
  {
   "cell_type": "code",
   "execution_count": 258,
   "metadata": {
    "colab": {},
    "colab_type": "code",
    "id": "CnlPc3Djqwnz"
   },
   "outputs": [],
   "source": [
    "batch_size = 32            # Batch size (you may try different values)\n",
    "batch_length = (int)(train_number/100)  # 9106\n",
    "epochs = 15               # Epoch (you may try different values)\n",
    "seq_len = 60 * 24 * 3     # 432 sequence data (Representing the last 3 days)\n",
    "loss='mean_squared_error' # Since the metric is MSE/RMSE\n",
    "opt = optimizers.Adam(lr=0.01, beta_1=0.9, beta_2=0.999, decay=0.01) #imizer = 'rmsprop'     # Recommended optimizer for RNN\n",
    "activation = 'relu'       # Linear activation\n",
    "input_shape=(None,6)      # Input dimension\n",
    "output_dim = 32           # Output dimension"
   ]
  },
  {
   "cell_type": "markdown",
   "metadata": {
    "colab_type": "text",
    "id": "a6p_o3rVqwn1"
   },
   "source": [
    "### Creating a Sequential Model"
   ]
  },
  {
   "cell_type": "code",
   "execution_count": 88,
   "metadata": {
    "colab": {
     "base_uri": "https://localhost:8080/",
     "height": 197
    },
    "colab_type": "code",
    "id": "kjIBsaG5qwn2",
    "outputId": "9a7a11b7-8c22-44c8-df5a-02ccbba7d30a"
   },
   "outputs": [],
   "source": [
    "model = Sequential()\n",
    "model.add(LSTM(units=output_dim, return_sequences=True, input_shape=input_shape))\n",
    "model.add(Dense(units=output_dim,activation=activation))\n",
    "model.add(LSTM(units=output_dim, return_sequences=False))\n",
    "model.add(Dense(units=3,activation='softmax'))\n",
    "model.compile(optimizer=opt,loss='categorical_crossentropy')"
   ]
  },
  {
   "cell_type": "markdown",
   "metadata": {
    "colab_type": "text",
    "id": "T7zOTsQdqwn3"
   },
   "source": [
    "### Training the RNN"
   ]
  },
  {
   "cell_type": "code",
   "execution_count": 35,
   "metadata": {
    "colab": {
     "base_uri": "https://localhost:8080/",
     "height": 305
    },
    "colab_type": "code",
    "id": "JWya_msdqwn4",
    "outputId": "2c479a20-f680-4185-ab71-5c6d70ae5273",
    "scrolled": false
   },
   "outputs": [
    {
     "name": "stdout",
     "output_type": "stream",
     "text": [
      "Model: \"sequential_2\"\n",
      "_________________________________________________________________\n",
      "Layer (type)                 Output Shape              Param #   \n",
      "=================================================================\n",
      "lstm_3 (LSTM)                (None, None, 32)          4992      \n",
      "_________________________________________________________________\n",
      "dense_3 (Dense)              (None, None, 32)          1056      \n",
      "_________________________________________________________________\n",
      "lstm_4 (LSTM)                (None, 32)                8320      \n",
      "_________________________________________________________________\n",
      "dense_4 (Dense)              (None, 3)                 99        \n",
      "=================================================================\n",
      "Total params: 14,467\n",
      "Trainable params: 14,467\n",
      "Non-trainable params: 0\n",
      "_________________________________________________________________\n"
     ]
    }
   ],
   "source": [
    "model.summary()"
   ]
  },
  {
   "cell_type": "code",
   "execution_count": 226,
   "metadata": {
    "colab": {},
    "colab_type": "code",
    "id": "dVXss4srqwn6"
   },
   "outputs": [],
   "source": [
    "def trainning_Model(X_train, Y_train, batch_length) :\n",
    "  \n",
    "    for epoch in range(epochs) :\n",
    "    \n",
    "        for batch in range(math.ceil(len(X_train)/batch_length)) :\n",
    "          \n",
    "            print(\"Epoch : %d / %d\"%(epoch, epochs), \"\\tBatch : %d / %d\"%(batch, math.ceil(len(X_train)/batch_length)), \"\\t\")\n",
    "          \n",
    "            inputData = np.zeros((0, seq_len, 6))    # (m, seq_len, 6)\n",
    "            outputData = np.zeros((0, 3))    # (m, seq_len, 6)\n",
    "\n",
    "            for i in range(batch_length) :\n",
    "              \n",
    "                if i%100 == 0 :\n",
    "                    print(i, end = ',')\n",
    "\n",
    "                if batch*batch_length + i + seq_len < len(X_train) :\n",
    "                    X_input = X_train[batch*batch_length + i : batch*batch_length + i + seq_len, :]\n",
    "                else :\n",
    "                    X_input = X_train[batch*batch_length + i:, :]\n",
    "\n",
    "                X_input = X_input.reshape((1, X_input.shape[0], X_input.shape[1]))\n",
    "                inputData = np.append(inputData, X_input, axis = 0)\n",
    "                outputData = np.append(outputData, Y_train[batch*batch_length + i, :].reshape((1, 3)), axis = 0)\n",
    "\n",
    "            #print(inputData.shape, outputData.shape)\n",
    "            model.fit(x=inputData, y=outputData, epochs=1, validation_split=0.00)\n",
    "\n",
    "    model.save('predict_model.h5')"
   ]
  },
  {
   "cell_type": "code",
   "execution_count": 259,
   "metadata": {},
   "outputs": [],
   "source": [
    "def trainning_Model(X_train, Y_train, batch_length, batch_size) :\n",
    "    \n",
    "    '''\n",
    "    Make empty buy_list_number, hold_list_number, sell_list_number '''\n",
    "    buy_list_number, hold_list_number, sell_list_number = [], [], []\n",
    "    \n",
    "    for i in range(seq_len, train_number) :\n",
    "        if Y_train[i, 0] == 1 :\n",
    "            buy_list_number.append(i)\n",
    "        elif Y_train[i, 1] == 1 :\n",
    "            hold_list_number.append(i)\n",
    "        elif Y_train[i, 2] == 1 :\n",
    "            sell_list_number.append(i)\n",
    "    \n",
    "    buy_list_number = np.array(buy_list_number)\n",
    "    hold_list_number = np.array(hold_list_number)\n",
    "    sell_list_number = np.array(sell_list_number)\n",
    "    \n",
    "    ''''''\n",
    "    train_order_number = np.hstack((buy_list_number, hold_list_number, sell_list_number))\n",
    "    np.random.shuffle(train_order_number)\n",
    "    \n",
    "    ''''''\n",
    "    for epoch in range(epochs) :\n",
    "    \n",
    "        for batch in range(math.ceil(len(X_train)/batch_length)) :\n",
    "          \n",
    "            print(\"Epoch : %d / %d\"%(epoch, epochs), \"\\tBatch : %d / %d\"%(batch, math.ceil(len(X_train)/batch_length)), \"\\t\")\n",
    "          \n",
    "            inputData = np.zeros((0, seq_len, 6))    # (m, seq_len, 6)\n",
    "            outputData = np.zeros((0, 3))    # (m, seq_len, 6)\n",
    "            \n",
    "            for i in range(batch_length) :\n",
    "              \n",
    "                if i%100 == 0 :\n",
    "                    print(i, end = ',')\n",
    "                    \n",
    "                if batch*batch_length + i < len(train_order_number) :\n",
    "                    target_array_number = train_order_number[batch*batch_length + i]\n",
    "                    X_input = X_train[target_array_number - seq_len : target_array_number, :]\n",
    "                else :\n",
    "                    X_input = X_train[target_array_number - seq_len :, :]\n",
    "\n",
    "                X_input = X_input.reshape((1, X_input.shape[0], X_input.shape[1]))\n",
    "                inputData = np.append(inputData, X_input, axis = 0)\n",
    "                outputData = np.append(outputData, Y_train[target_array_number, :].reshape((1, 3)), axis = 0)\n",
    "\n",
    "            #print(inputData, outputData)\n",
    "            model.fit(x=inputData, y=outputData, epochs=1, validation_split=0.00, batch_size = batch_size)\n",
    "        \n",
    "    model.save('predict_model.h5')"
   ]
  },
  {
   "cell_type": "code",
   "execution_count": 260,
   "metadata": {},
   "outputs": [
    {
     "name": "stdout",
     "output_type": "stream",
     "text": [
      "Epoch : 0 / 15 \tBatch : 0 / 101 \t\n",
      "0,100,200,300,400,500,600,700,800,900,Epoch 1/1\n",
      "931/931 [==============================] - 16s 17ms/step - loss: 0.8699\n",
      "Epoch : 0 / 15 \tBatch : 1 / 101 \t\n",
      "0,100,200,300,400,500,600,"
     ]
    },
    {
     "ename": "KeyboardInterrupt",
     "evalue": "",
     "output_type": "error",
     "traceback": [
      "\u001b[1;31m---------------------------------------------------------------------------\u001b[0m",
      "\u001b[1;31mKeyboardInterrupt\u001b[0m                         Traceback (most recent call last)",
      "\u001b[1;32m<ipython-input-260-cde52270c9fd>\u001b[0m in \u001b[0;36m<module>\u001b[1;34m\u001b[0m\n\u001b[1;32m----> 1\u001b[1;33m \u001b[0mtrainning_Model\u001b[0m\u001b[1;33m(\u001b[0m\u001b[0mX_train\u001b[0m\u001b[1;33m,\u001b[0m \u001b[0mY_train\u001b[0m\u001b[1;33m,\u001b[0m \u001b[0mbatch_length\u001b[0m\u001b[1;33m,\u001b[0m \u001b[0mbatch_size\u001b[0m\u001b[1;33m)\u001b[0m\u001b[1;33m\u001b[0m\u001b[1;33m\u001b[0m\u001b[0m\n\u001b[0m",
      "\u001b[1;32m<ipython-input-259-a678edd6d8a0>\u001b[0m in \u001b[0;36mtrainning_Model\u001b[1;34m(X_train, Y_train, batch_length, batch_size)\u001b[0m\n\u001b[0;32m     44\u001b[0m                 \u001b[0mX_input\u001b[0m \u001b[1;33m=\u001b[0m \u001b[0mX_input\u001b[0m\u001b[1;33m.\u001b[0m\u001b[0mreshape\u001b[0m\u001b[1;33m(\u001b[0m\u001b[1;33m(\u001b[0m\u001b[1;36m1\u001b[0m\u001b[1;33m,\u001b[0m \u001b[0mX_input\u001b[0m\u001b[1;33m.\u001b[0m\u001b[0mshape\u001b[0m\u001b[1;33m[\u001b[0m\u001b[1;36m0\u001b[0m\u001b[1;33m]\u001b[0m\u001b[1;33m,\u001b[0m \u001b[0mX_input\u001b[0m\u001b[1;33m.\u001b[0m\u001b[0mshape\u001b[0m\u001b[1;33m[\u001b[0m\u001b[1;36m1\u001b[0m\u001b[1;33m]\u001b[0m\u001b[1;33m)\u001b[0m\u001b[1;33m)\u001b[0m\u001b[1;33m\u001b[0m\u001b[1;33m\u001b[0m\u001b[0m\n\u001b[0;32m     45\u001b[0m                 \u001b[0minputData\u001b[0m \u001b[1;33m=\u001b[0m \u001b[0mnp\u001b[0m\u001b[1;33m.\u001b[0m\u001b[0mappend\u001b[0m\u001b[1;33m(\u001b[0m\u001b[0minputData\u001b[0m\u001b[1;33m,\u001b[0m \u001b[0mX_input\u001b[0m\u001b[1;33m,\u001b[0m \u001b[0maxis\u001b[0m \u001b[1;33m=\u001b[0m \u001b[1;36m0\u001b[0m\u001b[1;33m)\u001b[0m\u001b[1;33m\u001b[0m\u001b[1;33m\u001b[0m\u001b[0m\n\u001b[1;32m---> 46\u001b[1;33m                 \u001b[0moutputData\u001b[0m \u001b[1;33m=\u001b[0m \u001b[0mnp\u001b[0m\u001b[1;33m.\u001b[0m\u001b[0mappend\u001b[0m\u001b[1;33m(\u001b[0m\u001b[0moutputData\u001b[0m\u001b[1;33m,\u001b[0m \u001b[0mY_train\u001b[0m\u001b[1;33m[\u001b[0m\u001b[0mtarget_array_number\u001b[0m\u001b[1;33m,\u001b[0m \u001b[1;33m:\u001b[0m\u001b[1;33m]\u001b[0m\u001b[1;33m.\u001b[0m\u001b[0mreshape\u001b[0m\u001b[1;33m(\u001b[0m\u001b[1;33m(\u001b[0m\u001b[1;36m1\u001b[0m\u001b[1;33m,\u001b[0m \u001b[1;36m3\u001b[0m\u001b[1;33m)\u001b[0m\u001b[1;33m)\u001b[0m\u001b[1;33m,\u001b[0m \u001b[0maxis\u001b[0m \u001b[1;33m=\u001b[0m \u001b[1;36m0\u001b[0m\u001b[1;33m)\u001b[0m\u001b[1;33m\u001b[0m\u001b[1;33m\u001b[0m\u001b[0m\n\u001b[0m\u001b[0;32m     47\u001b[0m \u001b[1;33m\u001b[0m\u001b[0m\n\u001b[0;32m     48\u001b[0m             \u001b[1;31m#print(inputData, outputData)\u001b[0m\u001b[1;33m\u001b[0m\u001b[1;33m\u001b[0m\u001b[1;33m\u001b[0m\u001b[0m\n",
      "\u001b[1;32mD:\\Anaconda3\\lib\\site-packages\\numpy\\lib\\function_base.py\u001b[0m in \u001b[0;36mappend\u001b[1;34m(arr, values, axis)\u001b[0m\n\u001b[0;32m   4692\u001b[0m         \u001b[0mvalues\u001b[0m \u001b[1;33m=\u001b[0m \u001b[0mravel\u001b[0m\u001b[1;33m(\u001b[0m\u001b[0mvalues\u001b[0m\u001b[1;33m)\u001b[0m\u001b[1;33m\u001b[0m\u001b[1;33m\u001b[0m\u001b[0m\n\u001b[0;32m   4693\u001b[0m         \u001b[0maxis\u001b[0m \u001b[1;33m=\u001b[0m \u001b[0marr\u001b[0m\u001b[1;33m.\u001b[0m\u001b[0mndim\u001b[0m\u001b[1;33m-\u001b[0m\u001b[1;36m1\u001b[0m\u001b[1;33m\u001b[0m\u001b[1;33m\u001b[0m\u001b[0m\n\u001b[1;32m-> 4694\u001b[1;33m     \u001b[1;32mreturn\u001b[0m \u001b[0mconcatenate\u001b[0m\u001b[1;33m(\u001b[0m\u001b[1;33m(\u001b[0m\u001b[0marr\u001b[0m\u001b[1;33m,\u001b[0m \u001b[0mvalues\u001b[0m\u001b[1;33m)\u001b[0m\u001b[1;33m,\u001b[0m \u001b[0maxis\u001b[0m\u001b[1;33m=\u001b[0m\u001b[0maxis\u001b[0m\u001b[1;33m)\u001b[0m\u001b[1;33m\u001b[0m\u001b[1;33m\u001b[0m\u001b[0m\n\u001b[0m\u001b[0;32m   4695\u001b[0m \u001b[1;33m\u001b[0m\u001b[0m\n\u001b[0;32m   4696\u001b[0m \u001b[1;33m\u001b[0m\u001b[0m\n",
      "\u001b[1;31mKeyboardInterrupt\u001b[0m: "
     ]
    }
   ],
   "source": [
    "trainning_Model(X_train, Y_train, batch_length, batch_size)"
   ]
  },
  {
   "cell_type": "code",
   "execution_count": 37,
   "metadata": {
    "colab": {
     "base_uri": "https://localhost:8080/",
     "height": 1000
    },
    "colab_type": "code",
    "id": "1idamEzqqwn7",
    "outputId": "6df4f7d9-765c-4660-c9c2-2f31206c9a40"
   },
   "outputs": [
    {
     "name": "stdout",
     "output_type": "stream",
     "text": [
      "Epoch : 0 / 15 \tBatch : 0 / 78 \t\n",
      "0,100,200,300,400,500,600,700,800,900,1000,"
     ]
    },
    {
     "ename": "KeyboardInterrupt",
     "evalue": "",
     "output_type": "error",
     "traceback": [
      "\u001b[1;31m---------------------------------------------------------------------------\u001b[0m",
      "\u001b[1;31mKeyboardInterrupt\u001b[0m                         Traceback (most recent call last)",
      "\u001b[1;32m<ipython-input-37-3dd86296fca7>\u001b[0m in \u001b[0;36m<module>\u001b[1;34m\u001b[0m\n\u001b[1;32m----> 1\u001b[1;33m \u001b[0mtrainning_Model\u001b[0m\u001b[1;33m(\u001b[0m\u001b[0mX_train\u001b[0m\u001b[1;33m,\u001b[0m \u001b[0mY_train\u001b[0m\u001b[1;33m,\u001b[0m \u001b[1;36m1200\u001b[0m\u001b[1;33m)\u001b[0m\u001b[1;33m\u001b[0m\u001b[1;33m\u001b[0m\u001b[0m\n\u001b[0m",
      "\u001b[1;32m<ipython-input-36-73c0162fd870>\u001b[0m in \u001b[0;36mtrainning_Model\u001b[1;34m(X_train, Y_train, batch_length)\u001b[0m\n\u001b[0;32m     21\u001b[0m \u001b[1;33m\u001b[0m\u001b[0m\n\u001b[0;32m     22\u001b[0m               \u001b[0mX_input\u001b[0m \u001b[1;33m=\u001b[0m \u001b[0mX_input\u001b[0m\u001b[1;33m.\u001b[0m\u001b[0mreshape\u001b[0m\u001b[1;33m(\u001b[0m\u001b[1;33m(\u001b[0m\u001b[1;36m1\u001b[0m\u001b[1;33m,\u001b[0m \u001b[0mX_input\u001b[0m\u001b[1;33m.\u001b[0m\u001b[0mshape\u001b[0m\u001b[1;33m[\u001b[0m\u001b[1;36m0\u001b[0m\u001b[1;33m]\u001b[0m\u001b[1;33m,\u001b[0m \u001b[0mX_input\u001b[0m\u001b[1;33m.\u001b[0m\u001b[0mshape\u001b[0m\u001b[1;33m[\u001b[0m\u001b[1;36m1\u001b[0m\u001b[1;33m]\u001b[0m\u001b[1;33m)\u001b[0m\u001b[1;33m)\u001b[0m\u001b[1;33m\u001b[0m\u001b[1;33m\u001b[0m\u001b[0m\n\u001b[1;32m---> 23\u001b[1;33m               \u001b[0minputData\u001b[0m \u001b[1;33m=\u001b[0m \u001b[0mnp\u001b[0m\u001b[1;33m.\u001b[0m\u001b[0mappend\u001b[0m\u001b[1;33m(\u001b[0m\u001b[0minputData\u001b[0m\u001b[1;33m,\u001b[0m \u001b[0mX_input\u001b[0m\u001b[1;33m,\u001b[0m \u001b[0maxis\u001b[0m \u001b[1;33m=\u001b[0m \u001b[1;36m0\u001b[0m\u001b[1;33m)\u001b[0m\u001b[1;33m\u001b[0m\u001b[1;33m\u001b[0m\u001b[0m\n\u001b[0m\u001b[0;32m     24\u001b[0m               \u001b[0moutputData\u001b[0m \u001b[1;33m=\u001b[0m \u001b[0mnp\u001b[0m\u001b[1;33m.\u001b[0m\u001b[0mappend\u001b[0m\u001b[1;33m(\u001b[0m\u001b[0moutputData\u001b[0m\u001b[1;33m,\u001b[0m \u001b[0mY_train\u001b[0m\u001b[1;33m[\u001b[0m\u001b[0mbatch\u001b[0m\u001b[1;33m*\u001b[0m\u001b[0mbatch_length\u001b[0m \u001b[1;33m+\u001b[0m \u001b[0mi\u001b[0m\u001b[1;33m,\u001b[0m \u001b[1;33m:\u001b[0m\u001b[1;33m]\u001b[0m\u001b[1;33m.\u001b[0m\u001b[0mreshape\u001b[0m\u001b[1;33m(\u001b[0m\u001b[1;33m(\u001b[0m\u001b[1;36m1\u001b[0m\u001b[1;33m,\u001b[0m \u001b[1;36m3\u001b[0m\u001b[1;33m)\u001b[0m\u001b[1;33m)\u001b[0m\u001b[1;33m,\u001b[0m \u001b[0maxis\u001b[0m \u001b[1;33m=\u001b[0m \u001b[1;36m0\u001b[0m\u001b[1;33m)\u001b[0m\u001b[1;33m\u001b[0m\u001b[1;33m\u001b[0m\u001b[0m\n\u001b[0;32m     25\u001b[0m \u001b[1;33m\u001b[0m\u001b[0m\n",
      "\u001b[1;32mD:\\Anaconda3\\lib\\site-packages\\numpy\\lib\\function_base.py\u001b[0m in \u001b[0;36mappend\u001b[1;34m(arr, values, axis)\u001b[0m\n\u001b[0;32m   4692\u001b[0m         \u001b[0mvalues\u001b[0m \u001b[1;33m=\u001b[0m \u001b[0mravel\u001b[0m\u001b[1;33m(\u001b[0m\u001b[0mvalues\u001b[0m\u001b[1;33m)\u001b[0m\u001b[1;33m\u001b[0m\u001b[1;33m\u001b[0m\u001b[0m\n\u001b[0;32m   4693\u001b[0m         \u001b[0maxis\u001b[0m \u001b[1;33m=\u001b[0m \u001b[0marr\u001b[0m\u001b[1;33m.\u001b[0m\u001b[0mndim\u001b[0m\u001b[1;33m-\u001b[0m\u001b[1;36m1\u001b[0m\u001b[1;33m\u001b[0m\u001b[1;33m\u001b[0m\u001b[0m\n\u001b[1;32m-> 4694\u001b[1;33m     \u001b[1;32mreturn\u001b[0m \u001b[0mconcatenate\u001b[0m\u001b[1;33m(\u001b[0m\u001b[1;33m(\u001b[0m\u001b[0marr\u001b[0m\u001b[1;33m,\u001b[0m \u001b[0mvalues\u001b[0m\u001b[1;33m)\u001b[0m\u001b[1;33m,\u001b[0m \u001b[0maxis\u001b[0m\u001b[1;33m=\u001b[0m\u001b[0maxis\u001b[0m\u001b[1;33m)\u001b[0m\u001b[1;33m\u001b[0m\u001b[1;33m\u001b[0m\u001b[0m\n\u001b[0m\u001b[0;32m   4695\u001b[0m \u001b[1;33m\u001b[0m\u001b[0m\n\u001b[0;32m   4696\u001b[0m \u001b[1;33m\u001b[0m\u001b[0m\n",
      "\u001b[1;31mKeyboardInterrupt\u001b[0m: "
     ]
    }
   ],
   "source": [
    "trainning_Model(X_train, Y_train, 1200)"
   ]
  },
  {
   "cell_type": "markdown",
   "metadata": {
    "colab_type": "text",
    "id": "Jl6PxkVYqwn_"
   },
   "source": [
    "### Notebook"
   ]
  },
  {
   "cell_type": "code",
   "execution_count": null,
   "metadata": {
    "colab": {},
    "colab_type": "code",
    "id": "wG9sufr6qwoA"
   },
   "outputs": [],
   "source": [
    "print_BuyHoldSell_point(X, Y)"
   ]
  },
  {
   "cell_type": "code",
   "execution_count": null,
   "metadata": {},
   "outputs": [],
   "source": []
  }
 ],
 "metadata": {
  "accelerator": "GPU",
  "colab": {
   "collapsed_sections": [],
   "name": "pricePrediction.ipynb",
   "provenance": [],
   "toc_visible": true
  },
  "kernelspec": {
   "display_name": "Python 3",
   "language": "python",
   "name": "python3"
  },
  "language_info": {
   "codemirror_mode": {
    "name": "ipython",
    "version": 3
   },
   "file_extension": ".py",
   "mimetype": "text/x-python",
   "name": "python",
   "nbconvert_exporter": "python",
   "pygments_lexer": "ipython3",
   "version": "3.7.3"
  }
 },
 "nbformat": 4,
 "nbformat_minor": 1
}
